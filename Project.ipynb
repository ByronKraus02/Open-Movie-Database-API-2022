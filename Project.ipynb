{
 "cells": [
  {
   "cell_type": "markdown",
   "id": "1750a089",
   "metadata": {},
   "source": [
    "The first block of codes below allows you to install The OMDB package into the program. OMDB stands for Open Movie Database, it is a \"RESTful movie service used to obtain movie information\", REST stands for  representational state transfer. I also install the pyautogui package which allows me to use GUI to generate blocks and have less human error."
   ]
  },
  {
   "cell_type": "code",
   "execution_count": 1,
   "id": "b83313b9",
   "metadata": {
    "scrolled": true
   },
   "outputs": [
    {
     "name": "stdout",
     "output_type": "stream",
     "text": [
      "Requirement already satisfied: pip in c:\\users\\skate\\anaconda3\\lib\\site-packages (22.0.4)\n",
      "Requirement already satisfied: omdb in c:\\users\\skate\\anaconda3\\lib\\site-packages (0.10.1)\n",
      "Requirement already satisfied: requests>=2.0.1 in c:\\users\\skate\\anaconda3\\lib\\site-packages (from omdb) (2.26.0)\n",
      "Requirement already satisfied: charset-normalizer~=2.0.0 in c:\\users\\skate\\anaconda3\\lib\\site-packages (from requests>=2.0.1->omdb) (2.0.4)\n",
      "Requirement already satisfied: urllib3<1.27,>=1.21.1 in c:\\users\\skate\\anaconda3\\lib\\site-packages (from requests>=2.0.1->omdb) (1.26.7)\n",
      "Requirement already satisfied: idna<4,>=2.5 in c:\\users\\skate\\anaconda3\\lib\\site-packages (from requests>=2.0.1->omdb) (3.2)\n",
      "Requirement already satisfied: certifi>=2017.4.17 in c:\\users\\skate\\anaconda3\\lib\\site-packages (from requests>=2.0.1->omdb) (2021.10.8)\n",
      "Requirement already satisfied: pyautogui in c:\\users\\skate\\anaconda3\\lib\\site-packages (0.9.53)\n",
      "Requirement already satisfied: pyscreeze>=0.1.21 in c:\\users\\skate\\anaconda3\\lib\\site-packages (from pyautogui) (0.1.28)\n",
      "Requirement already satisfied: PyTweening>=1.0.1 in c:\\users\\skate\\anaconda3\\lib\\site-packages (from pyautogui) (1.0.4)\n",
      "Requirement already satisfied: pygetwindow>=0.0.5 in c:\\users\\skate\\anaconda3\\lib\\site-packages (from pyautogui) (0.0.9)\n",
      "Requirement already satisfied: mouseinfo in c:\\users\\skate\\anaconda3\\lib\\site-packages (from pyautogui) (0.1.3)\n",
      "Requirement already satisfied: pymsgbox in c:\\users\\skate\\anaconda3\\lib\\site-packages (from pyautogui) (1.0.9)\n",
      "Requirement already satisfied: pyrect in c:\\users\\skate\\anaconda3\\lib\\site-packages (from pygetwindow>=0.0.5->pyautogui) (0.2.0)\n",
      "Requirement already satisfied: pyperclip in c:\\users\\skate\\anaconda3\\lib\\site-packages (from mouseinfo->pyautogui) (1.8.2)\n"
     ]
    }
   ],
   "source": [
    "import sys##installing PyPi libraries\n",
    "!{sys.executable} -m pip install --upgrade pip\n",
    "!{sys.executable} -m pip install omdb\n",
    "#installing OMDB\n",
    "!{sys.executable} -m pip install pyautogui\n",
    "#installing pyautogui for message boxes"
   ]
  },
  {
   "cell_type": "markdown",
   "id": "9abcc251",
   "metadata": {},
   "source": [
    "The block of code below is used to access the OMDB through the unique API key, which you get once you register to the website, I made this extra function so it is easier to read the other functions used which are not from standard built in packages."
   ]
  },
  {
   "cell_type": "code",
   "execution_count": 2,
   "id": "e3be6287",
   "metadata": {},
   "outputs": [],
   "source": [
    "import omdb\n",
    "\n",
    "def APIkey(key):##installing the API key\n",
    "    omdb.set_default('apikey', key)"
   ]
  },
  {
   "cell_type": "markdown",
   "id": "b01c60fc",
   "metadata": {},
   "source": [
    "The split function is used to extract the contents of the textfile \"History.txt\" and put it into a list, split by the parameter which is sent from the location it is called from. For example \"title\" can be sent to split the textfile by titles of movies, keeping all of the movies information together in one block in the list"
   ]
  },
  {
   "cell_type": "code",
   "execution_count": 3,
   "id": "319eb783",
   "metadata": {},
   "outputs": [],
   "source": [
    "def split(info): ##Spliting the history textfile by the paramter given and returning the list\n",
    "    file_opener = open(\"History.txt\", \"r\")\n",
    "    unsorted_history = file_opener.read()\n",
    "    file_opener.close()\n",
    "    information = unsorted_history.split(info)\n",
    "    return information"
   ]
  },
  {
   "cell_type": "markdown",
   "id": "359cebac",
   "metadata": {},
   "source": [
    "When the search function is called, the title of the movie that the user is searching for is passed across from the main method to this function. It then makes the movie title lowercase to prevent duplicate errors from user entered mistakes such as searching \"Mad Max\" and then searching \"mad max\". The split function is then called to put the contents of our textfile (which holds all the movies information of which you have searched beforehand) into a list, split by the paramter sent across, which in this case is \"title\". This will put the entirety of each movie's information into each posititon of the list \"information\". It then checks if the movietitle the user searched is already in the textfile, if it is it will display that part of the list, which contains all the information on the movie and will turn the boolean into false, which will stop the program from checking the OMDB for the contents of the movie. If the movie title cannot be found in the textfile, boolean \"check\" will remain True, and the program will check the OMDB for the movie. If the movie doesn't exist, it will return an empty dictionary, and so I use the len() function to check that the movie is on the OMDB, if it exists, it will append to the textfile, using json to dump the contents of the movie information into the textfile, and print the contents of the movie, otherwise it will explain that the movie you have searched for does not exist. "
   ]
  },
  {
   "cell_type": "code",
   "execution_count": 4,
   "id": "39c3c112",
   "metadata": {},
   "outputs": [],
   "source": [
    "import json\n",
    "import pyautogui\n",
    "\n",
    "def search(movietitle):##searching for a movie title\n",
    "    movietitle = movietitle.lower()\n",
    "    count = 0\n",
    "    check = True##checking to see if in text file before checking internet\n",
    "    information = split(\"title\")\n",
    "    for word in information:\n",
    "        if movietitle in word.lower():\n",
    "            count += 1\n",
    "            if count <= 1:\n",
    "                pyautogui.alert(text=\"{\\\"title\"+word[:-2], title=\"Movie Database LTD.\", button=\"continue\")\n",
    "                check = False\n",
    "    \n",
    "    if check:##If it is not in the textfile\n",
    "        APIkey('62c6d5ed')\n",
    "        name = omdb.get(title=movietitle)##searching movie name\n",
    "        if len(name) > 0:##If the movie does exist\n",
    "            history_write(name)\n",
    "            pyautogui.alert(text=name, title=\"Movie Database LTD.\", button=\"continue\")\n",
    "        else:##If the movie does not exist\n",
    "            pyautogui.alert(text=movietitle + \" does not exist!\", title=\"Movie Database LTD.\", button=\"continue\")"
   ]
  },
  {
   "cell_type": "markdown",
   "id": "d58988d6",
   "metadata": {},
   "source": [
    "the clear function is used to clear the contents of the text file. When this function is called, it opens the textfile sent across as a write function, which will clear the contents of the textfile, it will then close the textfile, leaving an empty textfile. This function is used for clearing your search history for new users or at the users request."
   ]
  },
  {
   "cell_type": "code",
   "execution_count": 5,
   "id": "d9a489bb",
   "metadata": {},
   "outputs": [],
   "source": [
    "def clear(textfile):##clear history of textfile\n",
    "    open(textfile, \"w\").close()"
   ]
  },
  {
   "cell_type": "markdown",
   "id": "8e82f0bd",
   "metadata": {},
   "source": [
    "history_write is a function that appends to the \"History\" textfile with the contents sent across by the other function. "
   ]
  },
  {
   "cell_type": "code",
   "execution_count": 6,
   "id": "f55bffeb",
   "metadata": {},
   "outputs": [],
   "source": [
    "def history_write(name):\n",
    "    with open('History.txt', 'a') as history_file:##adding movie details to text file, movie details passed as a parameter\n",
    "        history_file.write(json.dumps(name)+\",\\n\")\n",
    "        history_file.close()"
   ]
  },
  {
   "cell_type": "markdown",
   "id": "80d48d74",
   "metadata": {},
   "source": [
    "password_write is a function that appends to the \"Password\" textfile to allow the last user to continue if needed"
   ]
  },
  {
   "cell_type": "code",
   "execution_count": 7,
   "id": "08da41cb",
   "metadata": {},
   "outputs": [],
   "source": [
    "def password_write(password):\n",
    "    with open('Password.txt', 'a') as history_file:##adding password to text file, password passed as a parameter\n",
    "        history_file.write(json.dumps(password))\n",
    "        history_file.close()"
   ]
  },
  {
   "cell_type": "markdown",
   "id": "012108a0",
   "metadata": {},
   "source": [
    "specific_search is a function that works similar to the search function, but allows the user to search for a specific piece of information on the movie, so that they do not need to look through large amounts of information for one specific piece of information. This function retrieves the movie name and the information they want to retireve from this movie, it does not need to check if th information is an option as they are given to the user as button choices and so they cannot put in custom searches for that specific piece of information. It will find the movie and the information, it will check if the movie is real and if so will check if the movie has already been found in the textfile, if it is, it will print that specific information on the movie as well as the title, if the user requests the title, then it will just display the title once, if the movie isn't in the textfile, it will call the history_write function to append to the textfile. If the user searches for the poster, it will use the webbrowser functions to open the poster for the user on the internet. If the movie doesn't exist, it will explain to the user that the movie doesn't exist."
   ]
  },
  {
   "cell_type": "code",
   "execution_count": 8,
   "id": "09a4861f",
   "metadata": {},
   "outputs": [],
   "source": [
    "import webbrowser##for opening the internet from the program\n",
    "\n",
    "def specific_search(movietitle, information):##searching a specific criteria of movie\n",
    "    movietitle = movietitle.lower()\n",
    "    check = True\n",
    "    APIkey('62c6d5ed')\n",
    "    name = omdb.get(title=movietitle)##searching movie name\n",
    "    if len(name) > 1:##checking movie exists\n",
    "        if information == \"title\":\n",
    "            pyautogui.alert(text=\"Title: \" + name[\"title\"], title=\"Movie Database LTD.\", button=\"continue\")\n",
    "            information = split(\",\")\n",
    "            for word in information:##checking movie in textfile\n",
    "                if movietitle in word.lower():\n",
    "                    check = False\n",
    "            if check:##If it isn't in textfile\n",
    "                history_write(name)\n",
    "        else:##If it isn't title they looking for\n",
    "            if information == \"poster\":\n",
    "                webbrowser.open(str(name[information]))##opens up the poster image on the internet using the link provided by OMDB\n",
    "                information = split(\",\")\n",
    "                for word in information:##checking for movie in textfile\n",
    "                    if movietitle in word.lower():\n",
    "                        check = False\n",
    "                if check:##If movie isn't in textfile\n",
    "                    history_write(name)\n",
    "            else:##If the movie isn't a textfile or a poster\n",
    "                pyautogui.alert(text=\"Title: \" + movietitle + \"\\n\" +information + \": \" + str(name[information]), title=\"Movie Database LTD.\", button=\"continue\")\n",
    "                information = split(\",\")\n",
    "                for word in information:##checking for movie in textfile\n",
    "                    if movietitle in word.lower():\n",
    "                        check = False\n",
    "                if check:##If the movie isn't in textfile\n",
    "                    history_write(name)\n",
    "    else:##If the movie does not exist on the OMDB\n",
    "        pyautogui.alert(text=movietitle + \" does not exist!\", title=\"Movie Database LTD.\", button=\"continue\")"
   ]
  },
  {
   "cell_type": "markdown",
   "id": "1e021e23",
   "metadata": {},
   "source": [
    "the history function will display the titles of the movies that the user has searched for so far, this is done by retrieving the information on the textfile and spliting it in a list by the \",\" which is done by calling the split function. It will then go through the list and look for \"title\", if it finds the title, it will print that title and move on. If there is no search history, which is checked by the len function on the list, it will explain that nothing has been searched yet."
   ]
  },
  {
   "cell_type": "code",
   "execution_count": 9,
   "id": "1254212a",
   "metadata": {},
   "outputs": [],
   "source": [
    "def history():##returning the titles of the history in the textfile\n",
    "    \n",
    "    check = False\n",
    "    history_store = \"\"\n",
    "    information = split(\",\")\n",
    "    if len(information) > 1:##checking their is a search history\n",
    "        for word in information:\n",
    "            if \"title\" in word:\n",
    "                word = word.replace(\"{\",\"\")##removing the { to deal with typing error\n",
    "                history_store = history_store + \"\\n\" + word\n",
    "                check = True\n",
    "    else:##If you haven't searched anything\n",
    "        pyautogui.alert(text=\"You haven't searched anything yet!\", title=\"Movie Database LTD.\", button=\"continue\")\n",
    "    \n",
    "    if check:##posting the movie titles of there is a history\n",
    "        pyautogui.alert(text= history_store, title=\"Movie Database LTD.\", button=\"continue\")"
   ]
  },
  {
   "cell_type": "markdown",
   "id": "88b8b012",
   "metadata": {},
   "source": [
    "This is the main method, that is why it isn't a function. I put it at the bottom so that all the other methods can be run in the beginning before running the main method to avoid running into errors of the system saying that a certain function does not exist. This main method starts by welcoming the user to the Movie Database and asking if they are a new user. The user must choose the button Yes or No. If they are new the program will run the clear function to remove the previous users search history and will ask the user to make a password which can be used later to remove their search history. If the user chooses no to being a new user, it will simply move on.<br><br>\n",
    "Once the user has selected 'Yes' or 'No', it will then ask the user whether they would like to:<br> \n",
    "A. Search  for a movie<br> \n",
    "B. Clear their search history<br>\n",
    "C. Show their search history<br>\n",
    "D. Find specific information on a movie<br>\n",
    "E. Exit the program.<br><br>\n",
    "The user will select the letter for the option they want. If they select:<br>\n",
    "A. The user will be asked to enter the name of the movie they would like and it will be sent across to the search function<br>\n",
    "B. The clear function will be called to remove the users history, once they provide the correct password<br>\n",
    "C. The history function will be called to display the titles of the previous movies searched<br>\n",
    "D. The user will be asked for the name and information on the movie they want and that information will be sent to specific_search<br>\n",
    "E. The user will end the program and a message will be displayed to thank the user for using the program."
   ]
  },
  {
   "cell_type": "code",
   "execution_count": 17,
   "id": "a98f22ae",
   "metadata": {
    "scrolled": false
   },
   "outputs": [
    {
     "data": {
      "text/plain": [
       "'Exit'"
      ]
     },
     "execution_count": 17,
     "metadata": {},
     "output_type": "execute_result"
    }
   ],
   "source": [
    "import pyautogui##allows for message boxes ##main method\n",
    "\n",
    "new_user = pyautogui.confirm(\"Welcome to Movie Database LTD. Are you a new user?\", title = \"Movie Database LTD.\", buttons = [\"Yes\",\"No\"])\n",
    "if new_user == \"No\":\n",
    "    file_opener = open(\"Password.txt\", \"r\")\n",
    "    unsorted_history = file_opener.read()\n",
    "    file_opener.close()\n",
    "    if len(unsorted_history) < 1 or unsorted_history == \"Default\":\n",
    "        password = \"Default\"\n",
    "        clear(\"Password.txt\")\n",
    "if new_user == \"Yes\":\n",
    "    clear(\"History.txt\")##gets rid of previous users search history\n",
    "    clear(\"Password.txt\")##gets rid of previous users password\n",
    "    while True:##password encrypts history so people can't see it\n",
    "        password = pyautogui.password(text=\"Enter a password to store history (minimum length = 6)\", title=\"Movie Database LTD.\", default='', mask=\"*\")\n",
    "        if password == None:\n",
    "            pyautogui.alert(text=\"Thank you for using Movie Database LTD.\", title=\"Movie Database LTD.\", button=\"Exit\")\n",
    "            sys.exit(\"You pressed cancel\")\n",
    "        else:\n",
    "            if password == '':##if the user doesn't put a password\n",
    "                pyautogui.alert(text=\"No password entered, please try again!\", title=\"Movie Database LTD.\", button=\"Try Again.\")\n",
    "            else:\n",
    "                if len(password) < 6:##if the password isn't long enough\n",
    "                    pyautogui.alert(text=\"Password too short, please try again!\", title=\"Movie Database LTD.\", button=\"Try Again.\")\n",
    "                else:##if password is good\n",
    "                    password_write(password)\n",
    "                    break\n",
    "##if they are not a new user it will simply continue from the last time including password\n",
    "\n",
    "while True:\n",
    "    options = pyautogui.confirm(\"Please select an option.\\nA: Find information on a movie\\nB: Clear search history\\nC: Show search history\\nD: Search specific information about a movie.\\nE: Exit Program.\", title = \"Movie Database LTD.\",buttons = [\"A\",\"B\",\"C\",\"D\",\"E\"])\n",
    "    if options == \"A\":\n",
    "        movietitle = pyautogui.prompt(\"Enter the title of the movie you want to find\", title = \"Movie Database LTD.\")\n",
    "        if movietitle == None:\n",
    "            pyautogui.alert(\"You pressed cancel.\", title = \"Movie Database LTD.\", button = \"continue\")\n",
    "        else:\n",
    "            search(movietitle.strip())\n",
    "        \n",
    "    else:\n",
    "        if options == \"B\":\n",
    "            password_check = pyautogui.password(text=\"Enter your password to clear history\", title=\"Movie Database LTD.\", default='', mask=\"*\")\n",
    "            if password == password_check:\n",
    "                clear(\"History.txt\")\n",
    "            else:\n",
    "                pyautogui.alert(text=\"Incorrect password entered!\", title=\"Movie Database LTD.\", button=\"OK\")\n",
    "        else:\n",
    "            if options == \"C\":\n",
    "                password_check = pyautogui.password(text=\"Enter your password to view history\", title=\"Movie Database LTD.\", default='', mask=\"*\")\n",
    "                if password == password_check:\n",
    "                    history()\n",
    "                else:\n",
    "                    pyautogui.alert(text=\"Incorrect password entered!\", title=\"Movie Database LTD.\", button=\"OK\")\n",
    "                    \n",
    "            else:\n",
    "                if options == \"D\":\n",
    "                    movietitle = pyautogui.prompt(text=\"Enter the title of the movie you want to find\",title=\"Movie Database LTD.\")\n",
    "                    if movietitle == None:\n",
    "                        pyautogui.alert(text=\"You pressed cancel\", title=\"Movie Database LTD.\", button=\"continue\")\n",
    "                    else:\n",
    "                        information = pyautogui.confirm(\"Enter the information you want to retrieve from \"+ movietitle, title=\"Movie Database LTD.\", buttons = ['title','year','rated','released','runtime','genre','director','writer','actors','plot','language','awards','poster','ratings','metascore','imdb_rating','imdb_votes','imdb_id','type','dvd','box_office','production','website','response'])\n",
    "                        specific_search(movietitle.strip(),information)\n",
    "                else:\n",
    "                    if options == \"E\":\n",
    "                        break\n",
    "\n",
    "pyautogui.alert(text=\"Thank you for using Movie Database LTD!\", title=\"Movie Database LTD.\", button=\"Exit\")"
   ]
  },
  {
   "cell_type": "markdown",
   "id": "147f3b14",
   "metadata": {},
   "source": [
    "In order to test the program, I will be using normal, abnormal and extreme data to see how my program responds to each data type.<br><br>\n",
    "As the program begins to run, the user is asked if he is a new user or not.<br>\n",
    "Normal data: \"Yes\"<br>\n",
    "Abnormal data: N/A<br>\n",
    "Extreme data: N/A<br><br>\n",
    "When run, these are the outputs:<br>\n",
    "Normal data: Ran perfectly and cleared history. Asked user to provide a password:<br>\n",
    "Password inputs:<br>\n",
    "Normal data: \"Byron123\"<br>\n",
    "Abnormal data: \"Byron1\"<br>\n",
    "Extreme data: \"!^@!W\", \"mon\"<br><br>\n",
    "Password outputs:<br>\n",
    "Normal data: Runs perfectly, moves onto next part of program<br>\n",
    "Abnormal data: Runs perfectly, moves onto next part of program<br>\n",
    "Extreme data: Says \"Password too short, please try again!\", \"No password entered, please try again!\"<br><br>\n",
    "Abnormal data: N/A<br>\n",
    "Extreme data: N/A<br><br>\n",
    "Once the user has stated whether he is new or not, the user will be asked what they would like to do. They must select \"A\" - \"E\".<br>\n",
    "Normal data: \"A\",\"B\",\"C\",\"D\",\"E\"<br>\n",
    "Abnormal data: N/A<br>\n",
    "Extreme data: N/A<br><br>\n",
    "The outputs are as follows:<br>\n",
    "Normal data: A: The program promts the user to \"Enter the title of the movie you want to find\". For this option the user will test with three types of data:<br><br>\n",
    "Normal data:\"Avatar\"<br>\n",
    "Abnormal data:\"tHE mATRiX\"<br>\n",
    "Extreme data:\"Not a real movie does not exist!\"<br><br>\n",
    "Outputs:<br>\n",
    "Normal data:\"{'title':'Avatar', 'year': '2009', 'rated': 'PG-13', 'released': '18 Dec 2009', 'runtime': '162 min', 'genre': 'Action, Adventure, Fantasy', 'director': 'James Cameron', 'writer': 'James Cameron', 'actors': 'Sam Worthington, Zoe Saldana, Sigourney Weaver', 'plot': 'A paraplegic Marine dispatched to the moon Pandora on a unique mission becomes torn between following his orders and protecting the world he feels is his home.', 'language': 'English, Spanish', 'country': 'United States', 'awards': 'Won 3 Oscars. 89 wins & 131 nominations total', 'poster': 'https://m.media-amazon.com/images/M/MV5BZDA0OGQxNTItMDZkMC00N2UyLTg3MzMtYTJmNjg3Nzk5MzRiXkEyXkFqcGdeQXVyMjUzOTY1NTc@._V1_SX300.jpg', 'ratings': [{'source': 'Internet Movie Database', 'value': '7.8/10'}, {'source': 'Rotten Tomatoes', 'value': '82%'}, {'source': 'Metacritic', 'value': '83/100'}], 'metascore': '83', 'imdb_rating': '7.8', 'imdb_votes': '1,189,326', 'imdb_id': 'tt0499549', 'type': 'movie', 'dvd': '22 Apr 2010', 'box_office': '\\\\$760,507,625', 'production': 'N/A', 'website': 'N/A', 'response': 'True'}\"<br>\n",
    "Abnormal data:\"{'title': 'The Matrix', 'year': '1999', 'rated': 'R', 'released': '31 Mar 1999', 'runtime': '136 min', 'genre': 'Action, Sci-Fi', 'director': 'Lana Wachowski, Lilly Wachowski', 'writer': 'Lilly Wachowski, Lana Wachowski', 'actors': 'Keanu Reeves, Laurence Fishburne, Carrie-Anne Moss', 'plot': 'When a beautiful stranger leads computer hacker Neo to a forbidding underworld, he discovers the shocking truth--the life he knows is the elaborate deception of an evil cyber-intelligence.', 'language': 'English', 'country': 'United States, Australia', 'awards': 'Won 4 Oscars. 42 wins & 51 nominations total', 'poster': 'https://m.media-amazon.com/images/M/MV5BNzQzOTk3OTAtNDQ0Zi00ZTVkLWI0MTEtMDllZjNkYzNjNTc4L2ltYWdlXkEyXkFqcGdeQXVyNjU0OTQ0OTY@._V1_SX300.jpg', 'ratings': [{'source': 'Internet Movie Database', 'value': '8.7/10'}, {'source': 'Rotten Tomatoes', 'value': '88\\%'}, {'source': 'Metacritic', 'value': '73/100'}], 'metascore': '73', 'imdb_rating': '8.7', 'imdb_votes': '1,851,767', 'imdb_id': 'tt0133093', 'type': 'movie', 'dvd': '15 May 2007', 'box_office': '$172,076,928', 'production': 'N/A', 'website': 'N/A', 'response': 'True'}\"<br>\n",
    "Extreme data:\"not a real movie\"<br><br>\n",
    "B: Runs a password check to see if the passwords are the same:<br><br>\n",
    "Normal data: \"Byron123\"<br>\n",
    "Abnormal data: \"bYRON 123\"<br>\n",
    "Extreme data: \"\"<br><br>\n",
    "Outputs:<br><br>\n",
    "Normal data: Runs perfectly and clears history<br>\n",
    "Abnormal data: \"Incorrect password entered!\" as it is case sensitive, doesn't clear history<br>\n",
    "Extreme data: \"Incorrect password entered!\", doesn't clear history<br><br>\n",
    "C: shows your history. For example if you have searched \"Avatar\", \"Avatar\", \"Ben 10\"<br>\n",
    "Output:<br>\n",
    "title : Avatar<br>\n",
    "title : Ben 10<br><br>\n",
    "D: It asks you to enter the name of the movie you are searching and you choose a button for the information you want on the movie:<br>\n",
    "For example input:<br><br>\n",
    "Normal data:\"Avatar\", \"plot\"<br>\n",
    "Abnormal data:\"tHE mATRiX\", \"runtime\"<br>\n",
    "Extreme data:\"Not a real movie\", \"actors\"<br><br>\n",
    "The output is as follows:<br>\n",
    "Normal data: Title: avatar<br>\n",
    "plot: A paraplegic Marine dispatches to the moon Pandora on a unique mission becomes torn between following his orders and protecting the world he feels is his home<br>\n",
    "Abnormal data: Title: the matrix<br>\n",
    "runtime: 136 min<br>\n",
    "Extreme data: Not a real movie does not exist!<br><br>\n",
    "E: The program will exit and a message will be displayed saying thank you for using the program.<br><br><br>\n",
    "Errors I encountered and dealt with while creating this program:<br><br>\n",
    "When I first began writing this program, I had to do research on what an OMDB is, how it's data is returned and the most effective way to deal with it. I managed to figure out that the data is returned as a dictionary when using the .get() method. Using this method allowed me to find specific information easily, but made putting data into the textfile difficult as it would only put the first part of the dictionary. To counter this problem I imported json and used json.dump() which allowed me to put everything into the textfile. When I tried to retrieve the work from the textfile I thought I would be able to use the same method as normal in terms of using a dictionary search, but it came back as a string. To get around this issue I decided to split the string up by the comma and then search that list for the information I wanted. The next issue I found was that when I looked up a movie, if one didn't exist it would simply return an empty dictionary, which would then result in errors when searching that dictionary for information, I managed to fix this issue by using len() to see if the dictionary is empty or not. Finally I found that many unneccessary errors were caused from incorrect user input, after doing extensive research and trying many different ways of countering the users errors, I decided the best way to deal with it was to limit the user interaction. I did this by importing pyautogui into my program, which allows me to use message boxes and button options instead of being able to write anything to run, this means for yes or no options, buttons can be used instead of the user typing 'Y' or \"Yes\" and so on. The message boxes also look a lot more neat and professional than the message being displayed below the code, especially when markdown's surround the code. I also encountered an error when the user pressed cancel on the buttons as this would return None, which then causes string related errors, to counter this issue I said if the box == None and then gave a message saying they cancelled and moved back."
   ]
  },
  {
   "cell_type": "code",
   "execution_count": null,
   "id": "8e674950",
   "metadata": {},
   "outputs": [],
   "source": []
  }
 ],
 "metadata": {
  "kernelspec": {
   "display_name": "Python 3 (ipykernel)",
   "language": "python",
   "name": "python3"
  },
  "language_info": {
   "codemirror_mode": {
    "name": "ipython",
    "version": 3
   },
   "file_extension": ".py",
   "mimetype": "text/x-python",
   "name": "python",
   "nbconvert_exporter": "python",
   "pygments_lexer": "ipython3",
   "version": "3.9.7"
  }
 },
 "nbformat": 4,
 "nbformat_minor": 5
}
